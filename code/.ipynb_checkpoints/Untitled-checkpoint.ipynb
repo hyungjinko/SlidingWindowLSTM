{
 "cells": [
  {
   "cell_type": "code",
   "execution_count": null,
   "metadata": {
    "collapsed": true
   },
   "outputs": [],
   "source": [
    "from LSTM import LSTM\n",
    "import tensorflow as tf\n",
    "\n",
    "tf.set_random_seed(777)  # reproducibility\n",
    "\n",
    "#path_price = 'your_data_path/bitstamp.csv'\n",
    "#path_price_log = 'your_data_path/bitstamp_log.csv'\n",
    "#path_vol_log = 'your_data_path/volatility_log.csv'\n",
    "\n",
    "\n",
    "# train Parameters\n",
    "par1 = {\n",
    "       'seq_length':150,\n",
    "        'sub_seq_length':100,\n",
    "        'iterations':101,\n",
    "        'multiple_hidden':False,\n",
    "        'path':'your_path' + 'bitstamp.csv',\n",
    "        'save_path':'C:/Users/khz1234/Desktop/LSTM' + 'result/',\n",
    "        }\n"
   ]
  },
  {
   "cell_type": "code",
   "execution_count": null,
   "metadata": {
    "collapsed": true
   },
   "outputs": [],
   "source": [
    "a = LSTM(par1)"
   ]
  }
 ],
 "metadata": {
  "kernelspec": {
   "display_name": "Python 2",
   "language": "python",
   "name": "python2"
  },
  "language_info": {
   "codemirror_mode": {
    "name": "ipython",
    "version": 2
   },
   "file_extension": ".py",
   "mimetype": "text/x-python",
   "name": "python",
   "nbconvert_exporter": "python",
   "pygments_lexer": "ipython2",
   "version": "2.7.13"
  }
 },
 "nbformat": 4,
 "nbformat_minor": 2
}
