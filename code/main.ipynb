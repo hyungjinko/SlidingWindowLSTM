{
 "cells": [
  {
   "cell_type": "code",
   "execution_count": 1,
   "metadata": {
    "collapsed": true
   },
   "outputs": [],
   "source": [
    "from LSTM import LSTM\n",
    "import tensorflow as tf\n",
    "\n",
    "tf.set_random_seed(777)  # reproducibility\n",
    "\n",
    "#path_price = 'your_data_path/bitstamp.csv'\n",
    "#path_price_log = 'your_data_path/bitstamp_log.csv'\n",
    "#path_vol_log = 'your_data_path/volatility_log.csv'\n",
    "\n",
    "\n",
    "# train Parameters\n",
    "par = {\n",
    "        'data_type':'price_log',\n",
    "        'seq_length':1500,\n",
    "        'sub_seq_length':1000,\n",
    "        'iterations':1001,\n",
    "        'num_hidden':1,\n",
    "        'path':'/home/slcf/hyungjinko/LSTM/' + 'data/price_log.csv',\n",
    "        'save_path':'/home/slcf/hyungjinko/LSTM/' + 'result/',\n",
    "        }\n"
   ]
  },
  {
   "cell_type": "code",
   "execution_count": 2,
   "metadata": {
    "collapsed": true
   },
   "outputs": [],
   "source": [
    "a = LSTM(par)"
   ]
  },
  {
   "cell_type": "code",
   "execution_count": 3,
   "metadata": {},
   "outputs": [
    {
     "name": "stdout",
     "output_type": "stream",
     "text": [
      "[[[  4.24017111e-04   3.56378496e-06   6.20981446e-03 ...,   2.33493894e-02\n",
      "     1.24859639e-01   1.28625616e-01]\n",
      "  [  4.44298756e-04   1.70497005e-05   5.19311335e-03 ...,   1.95953343e-02\n",
      "     1.00260757e-01   1.20824583e-01]\n",
      "  [  5.82841167e-04   3.23800596e-05   5.42905601e-03 ...,   1.77965444e-02\n",
      "     7.33255744e-02   1.08444706e-01]\n",
      "  ..., \n",
      "  [  4.70703505e-02   6.13447686e-04   2.64249444e-01 ...,   5.35721719e-01\n",
      "     1.95030078e-01   7.50190794e-01]\n",
      "  [  4.19424549e-02   4.32406436e-04   1.74101233e-01 ...,   5.36228955e-01\n",
      "     2.03578278e-01   7.48899400e-01]\n",
      "  [  1.89727973e-02   2.58890039e-04   2.18698040e-01 ...,   5.35599530e-01\n",
      "     1.99678794e-01   7.50450730e-01]]\n",
      "\n",
      " [[  4.44298756e-04   1.70497005e-05   5.19311335e-03 ...,   1.95953343e-02\n",
      "     1.00260757e-01   1.20824583e-01]\n",
      "  [  5.82841167e-04   3.23800596e-05   5.42905601e-03 ...,   1.77965444e-02\n",
      "     7.33255744e-02   1.08444706e-01]\n",
      "  [  2.89341348e-04   2.13810163e-05   9.38362442e-03 ...,   2.11760048e-02\n",
      "     9.88253802e-02   1.02063395e-01]\n",
      "  ..., \n",
      "  [  4.19424549e-02   4.32406436e-04   1.74101233e-01 ...,   5.36228955e-01\n",
      "     2.03578278e-01   7.48899400e-01]\n",
      "  [  1.89727973e-02   2.58890039e-04   2.18698040e-01 ...,   5.35599530e-01\n",
      "     1.99678794e-01   7.50450730e-01]\n",
      "  [  4.95952666e-02   6.63552026e-04   2.23013014e-01 ...,   5.37433922e-01\n",
      "     2.00120762e-01   7.48709917e-01]]\n",
      "\n",
      " [[  5.82841167e-04   3.23800596e-05   5.42905601e-03 ...,   1.77965444e-02\n",
      "     7.33255744e-02   1.08444706e-01]\n",
      "  [  2.89341348e-04   2.13810163e-05   9.38362442e-03 ...,   2.11760048e-02\n",
      "     9.88253802e-02   1.02063395e-01]\n",
      "  [  3.64777378e-07   1.58916391e-05   4.28880053e-03 ...,   2.03829166e-02\n",
      "     9.98828635e-02   1.02607101e-01]\n",
      "  ..., \n",
      "  [  1.89727973e-02   2.58890039e-04   2.18698040e-01 ...,   5.35599530e-01\n",
      "     1.99678794e-01   7.50450730e-01]\n",
      "  [  4.95952666e-02   6.63552026e-04   2.23013014e-01 ...,   5.37433922e-01\n",
      "     2.00120762e-01   7.48709917e-01]\n",
      "  [  4.31118608e-02   4.11108253e-04   2.29537681e-01 ...,   5.36830544e-01\n",
      "     2.17292666e-01   7.49200583e-01]]\n",
      "\n",
      " ..., \n",
      " [[  4.11058776e-02   5.36381733e-04   1.28586382e-01 ...,   2.81844616e-01\n",
      "     4.28634942e-01   2.62217999e-01]\n",
      "  [  2.79237740e-02   4.47239756e-04   1.33947581e-01 ...,   2.66637951e-01\n",
      "     4.13107306e-01   2.69472241e-01]\n",
      "  [  3.54046263e-02   2.21147391e-04   1.63903639e-01 ...,   2.57838726e-01\n",
      "     4.11579072e-01   2.69931793e-01]\n",
      "  ..., \n",
      "  [  1.60774723e-01   6.42465148e-03   5.33043563e-01 ...,   8.67894232e-01\n",
      "     5.38589001e-01   6.25448167e-01]\n",
      "  [  2.54005283e-01   7.93682039e-03   5.73514223e-01 ...,   8.67278695e-01\n",
      "     5.39878905e-01   6.28639877e-01]\n",
      "  [  1.84780851e-01   1.06115183e-02   5.95654368e-01 ...,   8.73000562e-01\n",
      "     5.47451019e-01   6.32402480e-01]]\n",
      "\n",
      " [[  2.79237740e-02   4.47239756e-04   1.33947581e-01 ...,   2.66637951e-01\n",
      "     4.13107306e-01   2.69472241e-01]\n",
      "  [  3.54046263e-02   2.21147391e-04   1.63903639e-01 ...,   2.57838726e-01\n",
      "     4.11579072e-01   2.69931793e-01]\n",
      "  [  1.08557135e-01   4.56411246e-04   1.40044391e-01 ...,   2.82517940e-01\n",
      "     4.08946633e-01   2.75984168e-01]\n",
      "  ..., \n",
      "  [  2.54005283e-01   7.93682039e-03   5.73514223e-01 ...,   8.67278695e-01\n",
      "     5.39878905e-01   6.28639877e-01]\n",
      "  [  1.84780851e-01   1.06115183e-02   5.95654368e-01 ...,   8.73000562e-01\n",
      "     5.47451019e-01   6.32402480e-01]\n",
      "  [  7.29764700e-02   6.79143704e-03   5.27547300e-01 ...,   8.74977231e-01\n",
      "     5.49670935e-01   6.30349815e-01]]\n",
      "\n",
      " [[  3.54046263e-02   2.21147391e-04   1.63903639e-01 ...,   2.57838726e-01\n",
      "     4.11579072e-01   2.69931793e-01]\n",
      "  [  1.08557135e-01   4.56411246e-04   1.40044391e-01 ...,   2.82517940e-01\n",
      "     4.08946633e-01   2.75984168e-01]\n",
      "  [  3.74357067e-02   2.25319789e-04   1.53593913e-01 ...,   2.96890676e-01\n",
      "     3.96394342e-01   2.68548310e-01]\n",
      "  ..., \n",
      "  [  1.84780851e-01   1.06115183e-02   5.95654368e-01 ...,   8.73000562e-01\n",
      "     5.47451019e-01   6.32402480e-01]\n",
      "  [  7.29764700e-02   6.79143704e-03   5.27547300e-01 ...,   8.74977231e-01\n",
      "     5.49670935e-01   6.30349815e-01]\n",
      "  [  1.21868074e-01   5.35951927e-03   5.05072117e-01 ...,   8.75137687e-01\n",
      "     5.48136890e-01   6.29291296e-01]]]\n",
      "(499, 1000, 18)\n",
      "[step: 0] loss: 26.829755783081055\n"
     ]
    },
    {
     "ename": "KeyboardInterrupt",
     "evalue": "",
     "output_type": "error",
     "traceback": [
      "\u001b[0;31m---------------------------------------------------------------------------\u001b[0m",
      "\u001b[0;31mKeyboardInterrupt\u001b[0m                         Traceback (most recent call last)",
      "\u001b[0;32m<ipython-input-3-751b322c8cf1>\u001b[0m in \u001b[0;36m<module>\u001b[0;34m()\u001b[0m\n\u001b[0;32m----> 1\u001b[0;31m \u001b[0ma\u001b[0m\u001b[0;34m.\u001b[0m\u001b[0mLSTM_result\u001b[0m\u001b[0;34m(\u001b[0m\u001b[0;34m)\u001b[0m\u001b[0;34m\u001b[0m\u001b[0m\n\u001b[0m",
      "\u001b[0;32m~/hyungjinko/LSTM/code/backup/LSTM.py\u001b[0m in \u001b[0;36mLSTM_result\u001b[0;34m(self)\u001b[0m\n\u001b[1;32m     74\u001b[0m             \u001b[0mprint\u001b[0m\u001b[0;34m(\u001b[0m\u001b[0mself\u001b[0m\u001b[0;34m.\u001b[0m\u001b[0mtrainX\u001b[0m\u001b[0;34m.\u001b[0m\u001b[0mshape\u001b[0m\u001b[0;34m)\u001b[0m\u001b[0;34m\u001b[0m\u001b[0m\n\u001b[1;32m     75\u001b[0m             \u001b[0;31m# LSTM training and test\u001b[0m\u001b[0;34m\u001b[0m\u001b[0;34m\u001b[0m\u001b[0m\n\u001b[0;32m---> 76\u001b[0;31m             \u001b[0m_result_predict\u001b[0m \u001b[0;34m=\u001b[0m \u001b[0mself\u001b[0m\u001b[0;34m.\u001b[0m\u001b[0mLSTM_train_and_infer\u001b[0m\u001b[0;34m(\u001b[0m\u001b[0mi\u001b[0m\u001b[0;34m)\u001b[0m\u001b[0;34m\u001b[0m\u001b[0m\n\u001b[0m\u001b[1;32m     77\u001b[0m             \u001b[0m_result_true\u001b[0m \u001b[0;34m=\u001b[0m \u001b[0mself\u001b[0m\u001b[0;34m.\u001b[0m\u001b[0mtestY\u001b[0m\u001b[0;34m\u001b[0m\u001b[0m\n\u001b[1;32m     78\u001b[0m             \u001b[0mprint\u001b[0m\u001b[0;34m(\u001b[0m\u001b[0;34m\"successfully train {}th/{}th sub RNN model\"\u001b[0m\u001b[0;34m.\u001b[0m\u001b[0mformat\u001b[0m\u001b[0;34m(\u001b[0m\u001b[0mi\u001b[0m\u001b[0;34m,\u001b[0m \u001b[0;36m2170\u001b[0m \u001b[0;34m-\u001b[0m \u001b[0mself\u001b[0m\u001b[0;34m.\u001b[0m\u001b[0mpar\u001b[0m\u001b[0;34m[\u001b[0m\u001b[0;34m'seq_length'\u001b[0m\u001b[0;34m]\u001b[0m\u001b[0;34m)\u001b[0m\u001b[0;34m)\u001b[0m\u001b[0;34m\u001b[0m\u001b[0m\n",
      "\u001b[0;32m~/hyungjinko/LSTM/code/backup/LSTM.py\u001b[0m in \u001b[0;36mLSTM_train_and_infer\u001b[0;34m(self, i)\u001b[0m\n\u001b[1;32m     49\u001b[0m             \u001b[0;32mfor\u001b[0m \u001b[0mj\u001b[0m \u001b[0;32min\u001b[0m \u001b[0mrange\u001b[0m\u001b[0;34m(\u001b[0m\u001b[0mself\u001b[0m\u001b[0;34m.\u001b[0m\u001b[0mpar\u001b[0m\u001b[0;34m[\u001b[0m\u001b[0;34m'iterations'\u001b[0m\u001b[0;34m]\u001b[0m\u001b[0;34m)\u001b[0m\u001b[0;34m:\u001b[0m\u001b[0;34m\u001b[0m\u001b[0m\n\u001b[1;32m     50\u001b[0m                 _, step_loss = sess.run([train, loss], feed_dict={\n\u001b[0;32m---> 51\u001b[0;31m                                         X: self.trainX, Y: self.trainY})\n\u001b[0m\u001b[1;32m     52\u001b[0m                 \u001b[0;32mif\u001b[0m \u001b[0mj\u001b[0m \u001b[0;34m%\u001b[0m \u001b[0;36m100\u001b[0m \u001b[0;34m==\u001b[0m \u001b[0;36m0\u001b[0m\u001b[0;34m:\u001b[0m\u001b[0;34m\u001b[0m\u001b[0m\n\u001b[1;32m     53\u001b[0m                     \u001b[0mprint\u001b[0m\u001b[0;34m(\u001b[0m\u001b[0;34m\"[step: {}] loss: {}\"\u001b[0m\u001b[0;34m.\u001b[0m\u001b[0mformat\u001b[0m\u001b[0;34m(\u001b[0m\u001b[0mj\u001b[0m\u001b[0;34m,\u001b[0m \u001b[0mstep_loss\u001b[0m\u001b[0;34m)\u001b[0m\u001b[0;34m)\u001b[0m\u001b[0;34m\u001b[0m\u001b[0m\n",
      "\u001b[0;32m~/tensorflow/local/lib/python3.5/site-packages/tensorflow/python/client/session.py\u001b[0m in \u001b[0;36mrun\u001b[0;34m(self, fetches, feed_dict, options, run_metadata)\u001b[0m\n\u001b[1;32m    787\u001b[0m     \u001b[0;32mtry\u001b[0m\u001b[0;34m:\u001b[0m\u001b[0;34m\u001b[0m\u001b[0m\n\u001b[1;32m    788\u001b[0m       result = self._run(None, fetches, feed_dict, options_ptr,\n\u001b[0;32m--> 789\u001b[0;31m                          run_metadata_ptr)\n\u001b[0m\u001b[1;32m    790\u001b[0m       \u001b[0;32mif\u001b[0m \u001b[0mrun_metadata\u001b[0m\u001b[0;34m:\u001b[0m\u001b[0;34m\u001b[0m\u001b[0m\n\u001b[1;32m    791\u001b[0m         \u001b[0mproto_data\u001b[0m \u001b[0;34m=\u001b[0m \u001b[0mtf_session\u001b[0m\u001b[0;34m.\u001b[0m\u001b[0mTF_GetBuffer\u001b[0m\u001b[0;34m(\u001b[0m\u001b[0mrun_metadata_ptr\u001b[0m\u001b[0;34m)\u001b[0m\u001b[0;34m\u001b[0m\u001b[0m\n",
      "\u001b[0;32m~/tensorflow/local/lib/python3.5/site-packages/tensorflow/python/client/session.py\u001b[0m in \u001b[0;36m_run\u001b[0;34m(self, handle, fetches, feed_dict, options, run_metadata)\u001b[0m\n\u001b[1;32m    995\u001b[0m     \u001b[0;32mif\u001b[0m \u001b[0mfinal_fetches\u001b[0m \u001b[0;32mor\u001b[0m \u001b[0mfinal_targets\u001b[0m\u001b[0;34m:\u001b[0m\u001b[0;34m\u001b[0m\u001b[0m\n\u001b[1;32m    996\u001b[0m       results = self._do_run(handle, final_targets, final_fetches,\n\u001b[0;32m--> 997\u001b[0;31m                              feed_dict_string, options, run_metadata)\n\u001b[0m\u001b[1;32m    998\u001b[0m     \u001b[0;32melse\u001b[0m\u001b[0;34m:\u001b[0m\u001b[0;34m\u001b[0m\u001b[0m\n\u001b[1;32m    999\u001b[0m       \u001b[0mresults\u001b[0m \u001b[0;34m=\u001b[0m \u001b[0;34m[\u001b[0m\u001b[0;34m]\u001b[0m\u001b[0;34m\u001b[0m\u001b[0m\n",
      "\u001b[0;32m~/tensorflow/local/lib/python3.5/site-packages/tensorflow/python/client/session.py\u001b[0m in \u001b[0;36m_do_run\u001b[0;34m(self, handle, target_list, fetch_list, feed_dict, options, run_metadata)\u001b[0m\n\u001b[1;32m   1130\u001b[0m     \u001b[0;32mif\u001b[0m \u001b[0mhandle\u001b[0m \u001b[0;32mis\u001b[0m \u001b[0;32mNone\u001b[0m\u001b[0;34m:\u001b[0m\u001b[0;34m\u001b[0m\u001b[0m\n\u001b[1;32m   1131\u001b[0m       return self._do_call(_run_fn, self._session, feed_dict, fetch_list,\n\u001b[0;32m-> 1132\u001b[0;31m                            target_list, options, run_metadata)\n\u001b[0m\u001b[1;32m   1133\u001b[0m     \u001b[0;32melse\u001b[0m\u001b[0;34m:\u001b[0m\u001b[0;34m\u001b[0m\u001b[0m\n\u001b[1;32m   1134\u001b[0m       return self._do_call(_prun_fn, self._session, handle, feed_dict,\n",
      "\u001b[0;32m~/tensorflow/local/lib/python3.5/site-packages/tensorflow/python/client/session.py\u001b[0m in \u001b[0;36m_do_call\u001b[0;34m(self, fn, *args)\u001b[0m\n\u001b[1;32m   1137\u001b[0m   \u001b[0;32mdef\u001b[0m \u001b[0m_do_call\u001b[0m\u001b[0;34m(\u001b[0m\u001b[0mself\u001b[0m\u001b[0;34m,\u001b[0m \u001b[0mfn\u001b[0m\u001b[0;34m,\u001b[0m \u001b[0;34m*\u001b[0m\u001b[0margs\u001b[0m\u001b[0;34m)\u001b[0m\u001b[0;34m:\u001b[0m\u001b[0;34m\u001b[0m\u001b[0m\n\u001b[1;32m   1138\u001b[0m     \u001b[0;32mtry\u001b[0m\u001b[0;34m:\u001b[0m\u001b[0;34m\u001b[0m\u001b[0m\n\u001b[0;32m-> 1139\u001b[0;31m       \u001b[0;32mreturn\u001b[0m \u001b[0mfn\u001b[0m\u001b[0;34m(\u001b[0m\u001b[0;34m*\u001b[0m\u001b[0margs\u001b[0m\u001b[0;34m)\u001b[0m\u001b[0;34m\u001b[0m\u001b[0m\n\u001b[0m\u001b[1;32m   1140\u001b[0m     \u001b[0;32mexcept\u001b[0m \u001b[0merrors\u001b[0m\u001b[0;34m.\u001b[0m\u001b[0mOpError\u001b[0m \u001b[0;32mas\u001b[0m \u001b[0me\u001b[0m\u001b[0;34m:\u001b[0m\u001b[0;34m\u001b[0m\u001b[0m\n\u001b[1;32m   1141\u001b[0m       \u001b[0mmessage\u001b[0m \u001b[0;34m=\u001b[0m \u001b[0mcompat\u001b[0m\u001b[0;34m.\u001b[0m\u001b[0mas_text\u001b[0m\u001b[0;34m(\u001b[0m\u001b[0me\u001b[0m\u001b[0;34m.\u001b[0m\u001b[0mmessage\u001b[0m\u001b[0;34m)\u001b[0m\u001b[0;34m\u001b[0m\u001b[0m\n",
      "\u001b[0;32m~/tensorflow/local/lib/python3.5/site-packages/tensorflow/python/client/session.py\u001b[0m in \u001b[0;36m_run_fn\u001b[0;34m(session, feed_dict, fetch_list, target_list, options, run_metadata)\u001b[0m\n\u001b[1;32m   1119\u001b[0m         return tf_session.TF_Run(session, options,\n\u001b[1;32m   1120\u001b[0m                                  \u001b[0mfeed_dict\u001b[0m\u001b[0;34m,\u001b[0m \u001b[0mfetch_list\u001b[0m\u001b[0;34m,\u001b[0m \u001b[0mtarget_list\u001b[0m\u001b[0;34m,\u001b[0m\u001b[0;34m\u001b[0m\u001b[0m\n\u001b[0;32m-> 1121\u001b[0;31m                                  status, run_metadata)\n\u001b[0m\u001b[1;32m   1122\u001b[0m \u001b[0;34m\u001b[0m\u001b[0m\n\u001b[1;32m   1123\u001b[0m     \u001b[0;32mdef\u001b[0m \u001b[0m_prun_fn\u001b[0m\u001b[0;34m(\u001b[0m\u001b[0msession\u001b[0m\u001b[0;34m,\u001b[0m \u001b[0mhandle\u001b[0m\u001b[0;34m,\u001b[0m \u001b[0mfeed_dict\u001b[0m\u001b[0;34m,\u001b[0m \u001b[0mfetch_list\u001b[0m\u001b[0;34m)\u001b[0m\u001b[0;34m:\u001b[0m\u001b[0;34m\u001b[0m\u001b[0m\n",
      "\u001b[0;31mKeyboardInterrupt\u001b[0m: "
     ]
    }
   ],
   "source": [
    "a.LSTM_result()"
   ]
  },
  {
   "cell_type": "code",
   "execution_count": null,
   "metadata": {
    "collapsed": true
   },
   "outputs": [],
   "source": []
  }
 ],
 "metadata": {
  "kernelspec": {
   "display_name": "Python 2",
   "language": "python",
   "name": "python2"
  },
  "language_info": {
   "codemirror_mode": {
    "name": "ipython",
    "version": 3
   },
   "file_extension": ".py",
   "mimetype": "text/x-python",
   "name": "python",
   "nbconvert_exporter": "python",
   "pygments_lexer": "ipython3",
   "version": "3.5.2"
  }
 },
 "nbformat": 4,
 "nbformat_minor": 2
}
